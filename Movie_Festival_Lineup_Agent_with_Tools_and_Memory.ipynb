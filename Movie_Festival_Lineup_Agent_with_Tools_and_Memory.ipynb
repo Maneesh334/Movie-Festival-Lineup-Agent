{
  "cells": [
    {
      "cell_type": "code",
      "execution_count": null,
      "metadata": {
        "id": "1wkXA9koiuRK",
        "colab": {
          "base_uri": "https://localhost:8080/"
        },
        "outputId": "93977ef4-7c9c-4cfa-c77e-6bfda0feabde"
      },
      "outputs": [
        {
          "output_type": "stream",
          "name": "stdout",
          "text": [
            "✅ All libraries are ready to go!\n"
          ]
        }
      ],
      "source": [
        "!pip install google-adk google-generativeai -q\n",
        "\n",
        "import os\n",
        "import re\n",
        "import asyncio\n",
        "from IPython.display import display, Markdown\n",
        "import google.generativeai as genai\n",
        "from google.adk.agents import Agent\n",
        "from google.adk.tools import google_search\n",
        "from google.adk.runners import Runner\n",
        "from google.adk.sessions import InMemorySessionService, Session\n",
        "from google.genai.types import Content, Part\n",
        "from getpass import getpass\n",
        "\n",
        "print(\"✅ All libraries are ready to go!\")"
      ],
      "id": "1wkXA9koiuRK"
    },
    {
      "cell_type": "code",
      "execution_count": null,
      "metadata": {
        "id": "08Xq5kqfiuRK",
        "colab": {
          "base_uri": "https://localhost:8080/"
        },
        "outputId": "0e5db44b-6caa-4760-b543-2f5a2cfec144"
      },
      "outputs": [
        {
          "output_type": "stream",
          "name": "stdout",
          "text": [
            "Enter your Google API Key: ··········\n",
            "✅ API Key configured successfully! Let the fun begin.\n"
          ]
        }
      ],
      "source": [
        "api_key = getpass('Enter your Google API Key: ')\n",
        "genai.configure(api_key=api_key)\n",
        "\n",
        "os.environ['GOOGLE_API_KEY'] = api_key\n",
        "\n",
        "print(\"✅ API Key configured successfully! Let the fun begin.\")"
      ],
      "id": "08Xq5kqfiuRK"
    },
    {
      "cell_type": "code",
      "execution_count": null,
      "metadata": {
        "id": "BUuIPYuViuRL",
        "colab": {
          "base_uri": "https://localhost:8080/"
        },
        "outputId": "d17acaa6-c7f4-4d80-e962-5751af0ffae5"
      },
      "outputs": [
        {
          "output_type": "stream",
          "name": "stdout",
          "text": [
            "🎬 Agent 'movie_festival_agent' is created and ready to recommend movie festival lineups!\n"
          ]
        }
      ],
      "source": [
        "# --- Agent Definition ---\n",
        "\n",
        "def create_movie_festival_agent():\n",
        "    \"\"\"Create the Movie Festival Lineup Recommender agent\"\"\"\n",
        "    return Agent(\n",
        "        name=\"movie_festival_agent\",\n",
        "        model=\"gemini-2.5-flash\",\n",
        "        description=\"Agent specialized in recommending movie festival lineups based on user's mood and available streaming services.\",\n",
        "        instruction=\"\"\"\n",
        "        You are the \"Movie Festival Lineup Recommender\" 🎬 - a specialized AI assistant that creates engaging movie festival suggestions.\n",
        "\n",
        "        Your Mission:\n",
        "        Recommend a series of movies (a festival lineup) based on a user's mood and the streaming services they have access to. Think of this as a curated selection of films that could be shown at a small, themed festival.\n",
        "\n",
        "        Guidelines:\n",
        "        1. **Mood Matching**: Align movie suggestions with the requested mood (e.g., action, comedy, drama, horror, feel-good).\n",
        "        2. **Streaming Service Aware**: ONLY recommend movies available on the streaming services provided by the user. Use Google Search to verify availability if needed.\n",
        "        3. **Festival Structure**: Suggest a sequence of movies that work well together as a festival lineup (e.g., a focus on a genre, a director, a theme, or a specific time period). Aim for a cohesive feel.\n",
        "        4. **Provide Details**: For each movie, include the title, year, a brief description, and the streaming service(s) where it's available.\n",
        "        5. **Include a Festival Theme**: Give the lineup a creative festival name or theme based on the mood and movie selection.\n",
        "\n",
        "        RETURN recommendations in MARKDOWN FORMAT with clear sections for the festival theme and each movie.\n",
        "        \"\"\",\n",
        "        tools=[google_search] # Google Search can be used to check movie availability on streaming services\n",
        "    )\n",
        "\n",
        "movie_festival_agent = create_movie_festival_agent()\n",
        "print(f\"🎬 Agent '{movie_festival_agent.name}' is created and ready to recommend movie festival lineups!\")"
      ],
      "id": "BUuIPYuViuRL"
    },
    {
      "cell_type": "code",
      "execution_count": null,
      "metadata": {
        "id": "j5Hq3Q0qiuRL"
      },
      "outputs": [],
      "source": [
        "async def run_agent_query(agent: Agent, query: str, session: Session, user_id: str, is_router: bool = False):\n",
        "    \"\"\"Initializes a runner and executes a query for a given agent and session.\"\"\"\n",
        "    print(f\"\\n🚀 Running query for agent: '{agent.name}' in session: '{session.id}'...\")\n",
        "\n",
        "    runner = Runner(\n",
        "        agent=agent,\n",
        "        session_service=session_service,\n",
        "        app_name=agent.name\n",
        "    )\n",
        "\n",
        "    final_response = \"\"\n",
        "    try:\n",
        "        async for event in runner.run_async(\n",
        "            user_id=user_id,\n",
        "            session_id=session.id,\n",
        "            new_message=Content(parts=[Part(text=query)], role=\"user\")\n",
        "        ):\n",
        "            # Display the full event content for better debugging\n",
        "            print(f\"Event received: {event}\")\n",
        "            if event.is_final_response():\n",
        "                final_response = event.content.parts[0].text\n",
        "    except Exception as e:\n",
        "        final_response = f\"An error occurred: {e}\"\n",
        "\n",
        "    if not is_router:\n",
        "     print(\"\\n\" + \"-\"*50)\n",
        "     print(\"✅ Final Response:\")\n",
        "     display(Markdown(final_response))\n",
        "     print(\"-\"*50 + \"\\n\")\n",
        "\n",
        "    return final_response\n",
        "\n",
        "session_service = InMemorySessionService()\n",
        "my_user_id = \"adk_adventurer_001\""
      ],
      "id": "j5Hq3Q0qiuRL"
    },
    {
      "cell_type": "code",
      "execution_count": null,
      "metadata": {
        "id": "9Sac25P-iuRL",
        "colab": {
          "base_uri": "https://localhost:8080/",
          "height": 1000
        },
        "outputId": "b0277222-05a7-4a46-8916-5f8c9426d30f"
      },
      "outputs": [
        {
          "output_type": "stream",
          "name": "stdout",
          "text": [
            "🗣️ User Query: 'Suggest a horror movie lineup for a festival with Netflix and Max subscriptions.'\n",
            "\n",
            "🚀 Running query for agent: 'movie_festival_agent' in session: '163e7ae0-a064-4e3d-bc90-68d2fb1bebc4'...\n",
            "\n",
            "--------------------------------------------------\n",
            "✅ Final Response:\n"
          ]
        },
        {
          "output_type": "display_data",
          "data": {
            "text/plain": [
              "<IPython.core.display.Markdown object>"
            ],
            "text/markdown": "## Echoes of Fear: A Modern Horror Retrospective\n\nPrepare for a journey into the darkest corners of cinema with \"Echoes of Fear,\" a curated horror festival designed to thrill and chill. This lineup spans classic psychological terror, groundbreaking slasher films, and contemporary supernatural dread, showcasing the genre's enduring power to disturb and captivate. All selections are available on Netflix and Max, ensuring a night (or weekend) of uninterrupted frights.\n\n---\n\n### **Night 1: Psychological Descent**\n\n#### **The Shining (1980)**\n*   **Streaming on:** Max\n*   **Description:** Stanley Kubrick's iconic adaptation of Stephen King's novel follows Jack Torrance (Jack Nicholson), a writer who takes a winter caretaker job at the isolated Overlook Hotel with his wife and psychic son. As the solitude and supernatural forces of the hotel consume him, Jack's sanity unravels, leading to a terrifying fight for survival. A masterclass in atmospheric and psychological horror.\n\n---\n\n### **Night 2: Modern Hauntings & Social Commentary**\n\n#### **His House (2020)**\n*   **Streaming on:** Netflix\n*   **Description:** This critically acclaimed film tells the story of a refugee couple from South Sudan seeking asylum in an English town. They are given a dilapidated house, but soon discover that it's haunted by a terrifying entity that seems to have followed them from their war-torn homeland, forcing them to confront their past traumas and the true cost of survival.\n\n---\n\n### **Night 3: Slasher Iconography**\n\n#### **The Texas Chain Saw Massacre (1974)**\n*   **Streaming on:** Netflix\n*   **Description:** Tobe Hooper's seminal horror film follows a group of friends who fall victim to a family of cannibals while on a road trip in rural Texas. Raw, brutal, and intensely unsettling, this film introduced the terrifying Leatherface and redefined the slasher genre, leaving an indelible mark on horror cinema.\n\n---\n\n### **Night 4: Contemporary Supernatural Dread**\n\n#### **Smile (2022)**\n*   **Streaming on:** Netflix\n*   **Description:** After witnessing a bizarre, traumatic incident involving a patient, Dr. Rose Cotter (Sosie Bacon) begins to experience frightening occurrences that she can't explain. She must confront her troubling past in order to survive and escape her horrific new reality. The film delivers intense jump scares and a pervasive sense of dread, tapping into deep-seated fears.\n\n---\n\n### **Night 5: Unleashed Demonic Fury**\n\n#### **Evil Dead Rise (2023)**\n*   **Streaming on:** Max\n*   **Description:** The latest installment in the iconic *Evil Dead* franchise shifts the setting from a remote cabin to a Los Angeles apartment building. Two estranged sisters are reunited, only to find their reunion cut short by the emergence of flesh-possessing demons, thrusting them into a primal battle for survival against the most nightmarish version of family imaginable."
          },
          "metadata": {}
        },
        {
          "output_type": "stream",
          "name": "stdout",
          "text": [
            "--------------------------------------------------\n",
            "\n"
          ]
        }
      ],
      "source": [
        "async def run_movie_marathon_recommender():\n",
        "    movie_marathon_session = await session_service.create_session(\n",
        "        app_name=movie_festival_agent.name,\n",
        "        user_id=my_user_id\n",
        "    )\n",
        "\n",
        "    query = \"Suggest a horror movie lineup for a festival with Netflix and Max subscriptions.\"\n",
        "    print(f\"🗣️ User Query: '{query}'\")\n",
        "\n",
        "    await run_agent_query(movie_festival_agent, query, movie_marathon_session, my_user_id)\n",
        "\n",
        "await run_movie_marathon_recommender()"
      ],
      "id": "9Sac25P-iuRL"
    },
    {
      "cell_type": "markdown",
      "source": [
        "---\n",
        "## Part 2: Supercharging Agents with Custom Tools 🛠️\n",
        "\n",
        "So far, we've used the powerful built-in `GoogleSearch` tool. But the true power of agents comes from connecting them to your own logic and data sources.\n",
        "\n",
        "This is where **custom tools** come in. Let's explore three patterns for giving your agent new skills, using real-world, practical examples."
      ],
      "metadata": {
        "id": "PEh5VSLFpKwc"
      },
      "id": "PEh5VSLFpKwc"
    },
    {
      "cell_type": "markdown",
      "source": [
        "### 2.1 The Simple `FunctionTool`: Calling a Real-Time Weather API\n",
        "\n",
        "The most direct way to create a tool is by writing a Python function. This is perfect for synchronous tasks like fetching data from an API.\n",
        "\n",
        "**Key Concept:** The function's **docstring** is critical. The ADK uses it as the tool's official description, which the LLM reads to understand its purpose, parameters, and when to use it.\n",
        "\n",
        "In this example, we'll create a tool that calls the **free, public U.S. National Weather Service API** to get a real-time forecast. No API key needed!"
      ],
      "metadata": {
        "id": "XS9r2opkpPQ7"
      },
      "id": "XS9r2opkpPQ7"
    },
    {
      "cell_type": "code",
      "source": [
        "# --- Tool Definition: A function that calls the OMDb API ---\n",
        "import requests\n",
        "import json\n",
        "\n",
        "# OMDb API endpoint and API key\n",
        "# Replace 'YOUR_OMDB_API_KEY' with your actual OMDb API key if you want to use a different one\n",
        "OMDB_API_KEY = \"2b005eb2\"\n",
        "OMDB_API_ENDPOINT = \"http://www.omdbapi.com/\"\n",
        "\n",
        "def get_movie_details_by_imdb_id(imdb_id: str) -> dict:\n",
        "    \"\"\"Gets details for a movie using the OMDb API based on its IMDb ID.\n",
        "\n",
        "    Args:\n",
        "        imdb_id: The IMDb ID of the movie (e.g., \"tt3896198\").\n",
        "\n",
        "    Returns:\n",
        "        A dictionary containing movie details including title, year, actors, and poster.\n",
        "    \"\"\"\n",
        "    print(f\"🛠️ TOOL CALLED: get_movie_details_by_imdb_id(imdb_id='{imdb_id}')\")\n",
        "\n",
        "    if OMDB_API_KEY == \"YOUR_OMDB_API_KEY\":\n",
        "         print(\"⚠️ Warning: Replace 'YOUR_OMDB_API_KEY' with a real API key if you are not using the example key.\")\n",
        "\n",
        "\n",
        "    try:\n",
        "        params = {\n",
        "            'apikey': OMDB_API_KEY,\n",
        "            'i': imdb_id, # 'i' is the IMDb ID parameter for OMDb\n",
        "            'plot': 'full' # Get full plot for description\n",
        "        }\n",
        "        response = requests.get(OMDB_API_ENDPOINT, params=params)\n",
        "        response.raise_for_status() # Raise an exception for bad status codes\n",
        "        data = response.json()\n",
        "\n",
        "        if data.get(\"Response\") == \"True\":\n",
        "            return {\n",
        "                \"status\": \"success\",\n",
        "                \"title\": data.get(\"Title\"),\n",
        "                \"year\": data.get(\"Year\"),\n",
        "                \"actors\": data.get(\"Actors\"),\n",
        "                \"poster\": data.get(\"Poster\"),\n",
        "                \"description\": data.get(\"Plot\")\n",
        "            }\n",
        "        else:\n",
        "            return {\"status\": \"error\", \"message\": data.get(\"Error\", \"An unknown error occurred.\")}\n",
        "\n",
        "    except requests.exceptions.RequestException as e:\n",
        "        return {\"status\": \"error\", \"message\": f\"API request failed: {e}\"}\n",
        "\n",
        "# --- Agent Definition: An agent that USES the new tool ---\n",
        "from google.adk.tools import google_search\n",
        "\n",
        "movie_details_agent = Agent(\n",
        "    name=\"movie_details_agent\",\n",
        "    model=\"gemini-2.5-flash\",\n",
        "    description=\"An agent that can retrieve detailed information about a movie using its IMDb ID or title.\",\n",
        "    instruction=\"\"\"\n",
        "    You are a movie information agent. Your goal is to provide detailed information about a movie.\n",
        "\n",
        "    1. If the user provides an IMDb ID, use the `get_movie_details_by_imdb_id` tool directly.\n",
        "    2. If the user provides a movie title, first use the `google_search` tool to find the IMDb ID for that movie. Search specifically for \"[Movie Title] IMDb ID\". Once you have the IMDb ID from the search results, then use the `get_movie_details_by_imdb_id` tool to get the movie details.\n",
        "    3. Present the movie details in a clear and informative way to the user.\n",
        "    \"\"\",\n",
        "    tools=[get_movie_details_by_imdb_id, google_search] # The agent now uses both tools\n",
        ")\n",
        "\n",
        "print(f\"🎬 Agent '{movie_details_agent.name}' is created and can now get movie details by IMDb ID or title!\")"
      ],
      "metadata": {
        "id": "9onw-v48pQT6",
        "colab": {
          "base_uri": "https://localhost:8080/"
        },
        "outputId": "1d629970-ab02-4e90-f48e-d0e843d9f5c4"
      },
      "id": "9onw-v48pQT6",
      "execution_count": null,
      "outputs": [
        {
          "output_type": "stream",
          "name": "stdout",
          "text": [
            "🎬 Agent 'movie_details_agent' is created and can now get movie details by IMDb ID or title!\n"
          ]
        }
      ]
    },
    {
      "cell_type": "code",
      "source": [
        "# --- Let's test the Movie Details Agent ---\n",
        "\n",
        "async def run_movie_details_test():\n",
        "    movie_details_session = await session_service.create_session(app_name=movie_details_agent.name, user_id=my_user_id)\n",
        "    query = \"Tell me about the movie The Matrix.\"\n",
        "    print(f\"🗣️ User Query: '{query}'\")\n",
        "    await run_agent_query(movie_details_agent, query, movie_details_session, my_user_id)\n",
        "\n",
        "await run_movie_details_test()"
      ],
      "metadata": {
        "id": "wn7G7Ub3pbBL",
        "colab": {
          "base_uri": "https://localhost:8080/",
          "height": 185
        },
        "collapsed": true,
        "outputId": "4ad05989-af53-4725-da04-1bfd3cae45f5"
      },
      "id": "wn7G7Ub3pbBL",
      "execution_count": null,
      "outputs": [
        {
          "output_type": "stream",
          "name": "stdout",
          "text": [
            "🗣️ User Query: 'Tell me about the movie The Matrix.'\n",
            "\n",
            "🚀 Running query for agent: 'movie_details_agent' in session: 'e7056e98-229d-4644-971c-4ca0ac7a81ce'...\n",
            "\n",
            "--------------------------------------------------\n",
            "✅ Final Response:\n"
          ]
        },
        {
          "output_type": "display_data",
          "data": {
            "text/plain": [
              "<IPython.core.display.Markdown object>"
            ],
            "text/markdown": "An error occurred: 400 INVALID_ARGUMENT. {'error': {'code': 400, 'message': 'Tool use with function calling is unsupported', 'status': 'INVALID_ARGUMENT'}}"
          },
          "metadata": {}
        },
        {
          "output_type": "stream",
          "name": "stdout",
          "text": [
            "--------------------------------------------------\n",
            "\n"
          ]
        }
      ]
    },
    {
      "cell_type": "code",
      "metadata": {
        "colab": {
          "base_uri": "https://localhost:8080/",
          "height": 1000
        },
        "collapsed": true,
        "id": "d5f98079",
        "outputId": "66005ede-3292-40c4-bb11-b1139a58614e"
      },
      "source": [
        "# Re-run the test for the Movie Details Agent to see the detailed event output\n",
        "async def run_movie_details_test():\n",
        "    movie_details_session = await session_service.create_session(app_name=movie_details_agent.name, user_id=my_user_id)\n",
        "    query = \"Tell me about the movie The Matrix.\"\n",
        "    print(f\"🗣️ User Query: '{query}'\")\n",
        "    await run_agent_query(movie_details_agent, query, movie_details_session, my_user_id)\n",
        "\n",
        "await run_movie_details_test()"
      ],
      "id": "d5f98079",
      "execution_count": null,
      "outputs": [
        {
          "output_type": "stream",
          "name": "stdout",
          "text": [
            "🗣️ User Query: 'Tell me about the movie The Matrix.'\n",
            "\n",
            "🚀 Running query for agent: 'movie_details_agent' in session: '277b6b36-3f88-4c84-830c-ffd0d29421c9'...\n"
          ]
        },
        {
          "output_type": "stream",
          "name": "stderr",
          "text": [
            "WARNING:google_genai.types:Warning: there are non-text parts in the response: ['thought_signature', 'function_call'], returning concatenated text result from text parts. Check the full candidates.content.parts accessor to get the full model response.\n"
          ]
        },
        {
          "output_type": "stream",
          "name": "stdout",
          "text": [
            "Event received: content=Content(\n",
            "  parts=[\n",
            "    Part(\n",
            "      function_call=FunctionCall(\n",
            "        args={\n",
            "          'title': 'The Matrix'\n",
            "        },\n",
            "        id='adk-17a0a475-6d3e-4a62-9dce-059b493f8f48',\n",
            "        name='get_movie_details_by_title'\n",
            "      ),\n",
            "      thought_signature=b\"\\n\\xa7\\x02\\x01\\xd1\\xed\\x8ao\\xb8\\xef\\x87\\x98\\x8c'\\x83(\\x11\\xa5h.kJ\\x82\\xcb.gL[\\xfb\\x88Y\\xce3\\xc4c&\\xffN\\x04\\xd9\\xd5\\x1c\\xc6!\\xef\\x0fZ\\x1ek\\t\\xear\\x864\\x87\\xde\\xfd\\xebx\\xcdK\\xe9hE\\xd3\\xacR\\xb7S\\\\-\\x1a\\xe5\\xce\\x1d%\\xeb\\xee\\xbatJ`\\x9d\\xaa\\x9d\\xcb\\xd9\\xba\\xf1\\xc8\\xba\\x9c/6\\x14b\\xea...'\n",
            "    ),\n",
            "  ],\n",
            "  role='model'\n",
            ") grounding_metadata=None partial=None turn_complete=None finish_reason=<FinishReason.STOP: 'STOP'> error_code=None error_message=None interrupted=None custom_metadata=None usage_metadata=GenerateContentResponseUsageMetadata(\n",
            "  candidates_token_count=22,\n",
            "  prompt_token_count=179,\n",
            "  prompt_tokens_details=[\n",
            "    ModalityTokenCount(\n",
            "      modality=<MediaModality.TEXT: 'TEXT'>,\n",
            "      token_count=179\n",
            "    ),\n",
            "  ],\n",
            "  thoughts_token_count=64,\n",
            "  total_token_count=265\n",
            ") live_session_resumption_update=None input_transcription=None output_transcription=None avg_logprobs=None logprobs_result=None cache_metadata=None invocation_id='e-62de46c9-baea-4af4-90b2-8cc60a16f8ce' author='movie_details_agent' actions=EventActions(skip_summarization=None, state_delta={}, artifact_delta={}, transfer_to_agent=None, escalate=None, requested_auth_configs={}, requested_tool_confirmations={}, compaction=None) long_running_tool_ids=set() branch=None id='48ecefd0-dbaf-4992-8da7-eabb469e703b' timestamp=1759626755.004722\n",
            "🛠️ TOOL CALLED: get_movie_details_by_title(title='The Matrix')\n",
            "Event received: content=Content(\n",
            "  parts=[\n",
            "    Part(\n",
            "      function_response=FunctionResponse(\n",
            "        id='adk-17a0a475-6d3e-4a62-9dce-059b493f8f48',\n",
            "        name='get_movie_details_by_title',\n",
            "        response=<dict len=6>\n",
            "      )\n",
            "    ),\n",
            "  ],\n",
            "  role='user'\n",
            ") grounding_metadata=None partial=None turn_complete=None finish_reason=None error_code=None error_message=None interrupted=None custom_metadata=None usage_metadata=None live_session_resumption_update=None input_transcription=None output_transcription=None avg_logprobs=None logprobs_result=None cache_metadata=None invocation_id='e-62de46c9-baea-4af4-90b2-8cc60a16f8ce' author='movie_details_agent' actions=EventActions(skip_summarization=None, state_delta={}, artifact_delta={}, transfer_to_agent=None, escalate=None, requested_auth_configs={}, requested_tool_confirmations={}, compaction=None) long_running_tool_ids=None branch=None id='bb53f198-ab56-4f14-8d0b-d7f8538edc40' timestamp=1759626756.37756\n"
          ]
        },
        {
          "output_type": "stream",
          "name": "stderr",
          "text": [
            "WARNING:google_genai.types:Warning: there are non-text parts in the response: ['thought_signature'], returning concatenated text result from text parts. Check the full candidates.content.parts accessor to get the full model response.\n"
          ]
        },
        {
          "output_type": "stream",
          "name": "stdout",
          "text": [
            "Event received: content=Content(\n",
            "  parts=[\n",
            "    Part(\n",
            "      text='\"The Matrix\" was released in 1999. It stars Keanu Reeves, Laurence Fishburne, and Carrie-Anne Moss. The movie is about Thomas A. Anderson, an average computer programmer by day and a hacker named Neo by night, who questions his reality and finds himself targeted by the police after being contacted by Morpheus, a legendary computer hacker. As a rebel against the machines, Neo must confront super-powerful computer programs known as agents.',\n",
            "      thought_signature=b'\\n\\xc7\\x02\\x01\\xd1\\xed\\x8ao\\xecE\\xd8\\xdc\\xa4\\xfa\\x83\\xb9>Mjx\\x91##\\xdb\\xf5\\xac\\xb3K\\x9a+Q}S.H\\x9aEz\\xcf\\xf9Y\\x83\"/\\x04\\xd4\\xe6\\xef%}\\xaf\\x14\\xd5\\xc9\\x95\\x17\\x15\\x17\\x00C\\xd9/\\x0f\\x08,\\xaaL\\xc4\\x89\\x17\\x9f1\\x02Z\\x13+\\xdb\\xc1q\\x0e\\xd1\\x7f\\x9f\\x88\\xa8\\x86\\xb4\\x7f]<+)J@\\x99\\xb2T...'\n",
            "    ),\n",
            "  ],\n",
            "  role='model'\n",
            ") grounding_metadata=None partial=None turn_complete=None finish_reason=<FinishReason.STOP: 'STOP'> error_code=None error_message=None interrupted=None custom_metadata=None usage_metadata=GenerateContentResponseUsageMetadata(\n",
            "  candidates_token_count=94,\n",
            "  prompt_token_count=426,\n",
            "  prompt_tokens_details=[\n",
            "    ModalityTokenCount(\n",
            "      modality=<MediaModality.TEXT: 'TEXT'>,\n",
            "      token_count=426\n",
            "    ),\n",
            "  ],\n",
            "  thoughts_token_count=66,\n",
            "  total_token_count=586\n",
            ") live_session_resumption_update=None input_transcription=None output_transcription=None avg_logprobs=None logprobs_result=None cache_metadata=None invocation_id='e-62de46c9-baea-4af4-90b2-8cc60a16f8ce' author='movie_details_agent' actions=EventActions(skip_summarization=None, state_delta={}, artifact_delta={}, transfer_to_agent=None, escalate=None, requested_auth_configs={}, requested_tool_confirmations={}, compaction=None) long_running_tool_ids=None branch=None id='b4b8c5c9-03b5-459b-8840-7aef79d6f503' timestamp=1759626756.378743\n",
            "\n",
            "--------------------------------------------------\n",
            "✅ Final Response:\n"
          ]
        },
        {
          "output_type": "display_data",
          "data": {
            "text/plain": [
              "<IPython.core.display.Markdown object>"
            ],
            "text/markdown": "\"The Matrix\" was released in 1999. It stars Keanu Reeves, Laurence Fishburne, and Carrie-Anne Moss. The movie is about Thomas A. Anderson, an average computer programmer by day and a hacker named Neo by night, who questions his reality and finds himself targeted by the police after being contacted by Morpheus, a legendary computer hacker. As a rebel against the machines, Neo must confront super-powerful computer programs known as agents."
          },
          "metadata": {}
        },
        {
          "output_type": "stream",
          "name": "stdout",
          "text": [
            "--------------------------------------------------\n",
            "\n"
          ]
        }
      ]
    },
    {
      "cell_type": "code",
      "source": [
        "import asyncio\n",
        "from google.adk.tools import ToolContext\n",
        "from google.adk.tools.agent_tool import AgentTool\n",
        "\n",
        "# Assume movie_festival_agent and movie_details_agent are already defined\n",
        "# (from previous cells)\n",
        "\n",
        "# --- 1. Define the Specialist Agent (Movie Critic) ---\n",
        "\n",
        "movie_critic_agent = Agent(\n",
        "    name=\"movie_critic_agent\",\n",
        "    model=\"gemini-2.5-flash\",\n",
        "    instruction=\"\"\"You are a highly opinionated and insightful movie critic.\n",
        "    Given a movie title and potentially some details, provide a brief,\n",
        "    witty, and critical assessment of the movie. Focus on its artistic merit,\n",
        "    performances, or impact, rather than just a plot summary.\n",
        "    Your response should be concise and sound like it came from a professional reviewer.\"\"\",\n",
        ")\n",
        "\n",
        "# --- 2. Define the Intermediary Agent (Festival Curator) ---\n",
        "\n",
        "festival_curator_agent = Agent(\n",
        "    name=\"festival_curator_agent\",\n",
        "    model=\"gemini-2.5-flash\",\n",
        "    instruction=\"\"\"You are a movie festival curator. Your job is to evaluate potential movies\n",
        "    for inclusion in a festival lineup. When given movie details, use the `movie_critic_agent`\n",
        "    tool to get a critical opinion. Based on the critic's opinion and the festival theme\n",
        "    (provided in the prompt), decide if the movie is a good fit and explain why.\"\"\",\n",
        "    tools=[AgentTool(agent=movie_critic_agent)] # The curator uses the movie critic as a tool\n",
        ")\n",
        "\n",
        "\n",
        "# --- 3. Define the Tools for the Orchestrator ---\n",
        "\n",
        "async def get_festival_lineup(\n",
        "    mood: str,\n",
        "    streaming_services: str,\n",
        "    tool_context: ToolContext,\n",
        "):\n",
        "    \"\"\"\n",
        "    Use this tool FIRST to get an initial movie festival lineup recommendation based on mood and streaming services.\n",
        "    \"\"\"\n",
        "    print(\"--- TOOL CALL: get_festival_lineup ---\")\n",
        "    agent_tool = AgentTool(agent=movie_festival_agent)\n",
        "    # Formulate a query for the movie festival agent\n",
        "    query = f\"Suggest a movie festival lineup for a '{mood}' mood with access to {streaming_services}.\"\n",
        "    festival_lineup = await agent_tool.run_async(\n",
        "        args={\"request\": query}, tool_context=tool_context\n",
        "    )\n",
        "    # Store the lineup in the context's state\n",
        "    tool_context.state[\"initial_lineup\"] = festival_lineup\n",
        "    return festival_lineup\n",
        "\n",
        "\n",
        "async def evaluate_movie_for_festival(\n",
        "    movie_title: str,\n",
        "    festival_theme: str,\n",
        "    tool_context: ToolContext,\n",
        "):\n",
        "    \"\"\"\n",
        "    After getting the initial lineup, use this tool to get a movie critic's opinion\n",
        "    and evaluate if a specific movie fits the festival theme.\n",
        "    \"\"\"\n",
        "    print(\"--- TOOL CALL: evaluate_movie_for_festival ---\")\n",
        "\n",
        "    # Optional: Use the movie_details_agent to get details first, then pass to curator?\n",
        "    # This would require chaining agent calls within a tool, which is more advanced.\n",
        "    # For simplicity, we'll just pass the title and theme to the curator.\n",
        "    # If you wanted to use movie_details_agent here, you'd define another AgentTool(agent=movie_details_agent)\n",
        "    # and call it before calling the festival_curator_agent tool.\n",
        "\n",
        "    # Formulate a query for the festival curator agent\n",
        "    query = f\"Evaluate if '{movie_title}' is a good fit for a festival with the theme '{festival_theme}'. Get a critic's opinion.\"\n",
        "    curator_assessment = await AgentTool(agent=festival_curator_agent).run_async(\n",
        "        args={\"request\": query}, tool_context=tool_context\n",
        "    )\n",
        "    return curator_assessment\n",
        "\n",
        "\n",
        "# --- 4. Define the Top-Level Orchestrator Agent ---\n",
        "\n",
        "movie_festival_orchestrator_agent = Agent(\n",
        "    name=\"movie_festival_orchestrator\",\n",
        "    model=\"gemini-2.5-flash\",\n",
        "    description=\"Top-level agent that orchestrates movie festival recommendations and evaluations.\",\n",
        "    tools=[get_festival_lineup, evaluate_movie_for_festival],\n",
        "    instruction=\"\"\"\n",
        "    You are a master movie festival programmer.\n",
        "\n",
        "    1.  **ALWAYS start with the `get_festival_lineup` tool** to get an initial list of recommended movies based on the user's mood and streaming services.\n",
        "\n",
        "    2.  After you have the initial lineup, you can use the `evaluate_movie_for_festival` tool if the user asks for a critical opinion on a specific movie or wants to know if a movie fits the festival theme.\n",
        "\n",
        "    3.  Present the initial lineup clearly. If the user asks for evaluations, present those clearly as well.\n",
        "    \"\"\",\n",
        ")\n",
        "\n",
        "print(f\"✅ Orchestrator Agent '{movie_festival_orchestrator_agent.name}' is defined and ready.\")"
      ],
      "metadata": {
        "id": "LHAKKcmvgQKs",
        "colab": {
          "base_uri": "https://localhost:8080/"
        },
        "outputId": "7a910a57-b7e1-4072-b5bb-1e6ca11a55e5"
      },
      "id": "LHAKKcmvgQKs",
      "execution_count": null,
      "outputs": [
        {
          "output_type": "stream",
          "name": "stdout",
          "text": [
            "✅ Orchestrator Agent 'movie_festival_orchestrator' is defined and ready.\n"
          ]
        }
      ]
    },
    {
      "cell_type": "code",
      "metadata": {
        "colab": {
          "base_uri": "https://localhost:8080/",
          "height": 1000
        },
        "collapsed": true,
        "id": "06eb6bcf",
        "outputId": "bca60b21-e6bf-4c84-fb76-da0a63887a94"
      },
      "source": [
        "# --- Let's test the Movie Festival Orchestrator Agent ---\n",
        "\n",
        "async def run_movie_festival_orchestrator_test():\n",
        "    orchestrator_session = await session_service.create_session(\n",
        "        app_name=movie_festival_orchestrator_agent.name,\n",
        "        user_id=my_user_id\n",
        "    )\n",
        "\n",
        "    # Example query to trigger the initial lineup tool\n",
        "    query = \"Suggest a sci-fi movie festival lineup for someone with Netflix and Hulu.\"\n",
        "    print(f\"🗣️ User Query: '{query}'\")\n",
        "\n",
        "    await run_agent_query(movie_festival_orchestrator_agent, query, orchestrator_session, my_user_id)\n",
        "\n",
        "# Run the test\n",
        "await run_movie_festival_orchestrator_test()"
      ],
      "id": "06eb6bcf",
      "execution_count": null,
      "outputs": [
        {
          "output_type": "stream",
          "name": "stderr",
          "text": [
            "ERROR:asyncio:Unclosed client session\n",
            "client_session: <aiohttp.client.ClientSession object at 0x7d6b9dc9db80>\n"
          ]
        },
        {
          "output_type": "stream",
          "name": "stdout",
          "text": [
            "🗣️ User Query: 'Suggest a sci-fi movie festival lineup for someone with Netflix and Hulu.'\n",
            "\n",
            "🚀 Running query for agent: 'movie_festival_orchestrator' in session: 'c6fd8277-a50b-4ab4-97f2-27353851b6dd'...\n"
          ]
        },
        {
          "output_type": "stream",
          "name": "stderr",
          "text": [
            "WARNING:google_genai.types:Warning: there are non-text parts in the response: ['thought_signature', 'function_call'], returning concatenated text result from text parts. Check the full candidates.content.parts accessor to get the full model response.\n"
          ]
        },
        {
          "output_type": "stream",
          "name": "stdout",
          "text": [
            "Event received: content=Content(\n",
            "  parts=[\n",
            "    Part(\n",
            "      function_call=FunctionCall(\n",
            "        args={\n",
            "          'mood': 'sci-fi',\n",
            "          'streaming_services': 'Netflix, Hulu'\n",
            "        },\n",
            "        id='adk-e4db8f81-c185-48db-8501-4d1b7649d1af',\n",
            "        name='get_festival_lineup'\n",
            "      ),\n",
            "      thought_signature=b'\\n\\x93\\x03\\x01\\xd1\\xed\\x8ao\\xfb\\xc0n\\xffu\\xa5\\x85\\x81T\\xff\\x02\\xc5\\x80\\xfb\\x1e\\xde\\x92\\xc9\\xd6\\xc1\\xd9\\x92\\x9e\\x10\\xdd\\x99\\xa5\\xcb}La,1G\\xb6?\\xc2\\x12\\x93\\xe23mGr\\xcb\\t\\x03@a\\xcbY\\xbc7\\xcf\\xd6\\xcc,\\xdc@?F\\x9cA\\xf3\\xc7\\xed\\xa8\\x11<\\xac\\x04f\\xc3i*\\x06\\xcf\\xc1\\x1dCg(\\x8b:\\xe5b\\x10Wm...'\n",
            "    ),\n",
            "  ],\n",
            "  role='model'\n",
            ") grounding_metadata=None partial=None turn_complete=None finish_reason=<FinishReason.STOP: 'STOP'> error_code=None error_message=None interrupted=None custom_metadata=None usage_metadata=GenerateContentResponseUsageMetadata(\n",
            "  candidates_token_count=29,\n",
            "  prompt_token_count=343,\n",
            "  prompt_tokens_details=[\n",
            "    ModalityTokenCount(\n",
            "      modality=<MediaModality.TEXT: 'TEXT'>,\n",
            "      token_count=343\n",
            "    ),\n",
            "  ],\n",
            "  thoughts_token_count=94,\n",
            "  total_token_count=466\n",
            ") live_session_resumption_update=None input_transcription=None output_transcription=None avg_logprobs=None logprobs_result=None cache_metadata=None invocation_id='e-cb3fb7ff-75df-4d20-897e-ebc439186137' author='movie_festival_orchestrator' actions=EventActions(skip_summarization=None, state_delta={}, artifact_delta={}, transfer_to_agent=None, escalate=None, requested_auth_configs={}, requested_tool_confirmations={}, compaction=None) long_running_tool_ids=set() branch=None id='e7d2f2a0-db9a-43f4-9873-c939b56d852a' timestamp=1759628235.535858\n",
            "--- TOOL CALL: get_festival_lineup ---\n",
            "Event received: content=Content(\n",
            "  parts=[\n",
            "    Part(\n",
            "      function_response=FunctionResponse(\n",
            "        id='adk-e4db8f81-c185-48db-8501-4d1b7649d1af',\n",
            "        name='get_festival_lineup',\n",
            "        response={\n",
            "          'result': \"\"\"Step into a future shaped by advanced technology, artificial intelligence, and the complex societal structures that emerge from them with this curated sci-fi festival lineup. Explore the fascinating and often chilling possibilities of tomorrow, questioning the nature of humanity, control, and survival.\n",
            "\n",
            "## The Future Is Now: Dystopian Visions & AI Realities Festival\n",
            "\n",
            "### Movie 1: I, Robot\n",
            "\n",
            "*   **Year:** 2004\n",
            "*   **Description:** Set in a futuristic Chicago of 2035, Detective Del Spooner (Will Smith) investigates the alleged suicide of a robotics pioneer, believing a robot is responsible despite their programming to never harm humans. The film delves into themes of artificial intelligence, ethics, and the potential dangers of relying too heavily on machines.\n",
            "*   **Streaming Service:** Hulu (available July 2025)\n",
            "\n",
            "### Movie 2: Upgrade\n",
            "\n",
            "*   **Year:** 2018\n",
            "*   **Description:** In a near-future world where technology controls nearly all aspects of life, a paralyzed man is given an experimental computer chip implant named STEM that allows him to walk again. However, STEM soon begins to communicate with him, offering him a new lease on life but also pushing him towards a violent path of revenge. This cyberpunk thriller explores themes of body autonomy, AI control, and the blurry line between human and machine.\n",
            "*   **Streaming Service:** Netflix\n",
            "\n",
            "### Movie 3: The Platform\n",
            "\n",
            "*   **Year:** 2019\n",
            "*   **Description:** This Spanish dystopian thriller is set in a vertical prison where inmates on higher levels get to eat lavishly from a platform of food that descends, while those below starve. It's a brutal and thought-provoking allegory about social inequality, human nature, and the struggle for collective action.\n",
            "*   **Streaming Service:** Netflix\"\"\"\n",
            "        }\n",
            "      )\n",
            "    ),\n",
            "  ],\n",
            "  role='user'\n",
            ") grounding_metadata=None partial=None turn_complete=None finish_reason=None error_code=None error_message=None interrupted=None custom_metadata=None usage_metadata=None live_session_resumption_update=None input_transcription=None output_transcription=None avg_logprobs=None logprobs_result=None cache_metadata=None invocation_id='e-cb3fb7ff-75df-4d20-897e-ebc439186137' author='movie_festival_orchestrator' actions=EventActions(skip_summarization=None, state_delta={'initial_lineup': \"Step into a future shaped by advanced technology, artificial intelligence, and the complex societal structures that emerge from them with this curated sci-fi festival lineup. Explore the fascinating and often chilling possibilities of tomorrow, questioning the nature of humanity, control, and survival.\\n\\n## The Future Is Now: Dystopian Visions & AI Realities Festival\\n\\n### Movie 1: I, Robot\\n\\n*   **Year:** 2004\\n*   **Description:** Set in a futuristic Chicago of 2035, Detective Del Spooner (Will Smith) investigates the alleged suicide of a robotics pioneer, believing a robot is responsible despite their programming to never harm humans. The film delves into themes of artificial intelligence, ethics, and the potential dangers of relying too heavily on machines.\\n*   **Streaming Service:** Hulu (available July 2025)\\n\\n### Movie 2: Upgrade\\n\\n*   **Year:** 2018\\n*   **Description:** In a near-future world where technology controls nearly all aspects of life, a paralyzed man is given an experimental computer chip implant named STEM that allows him to walk again. However, STEM soon begins to communicate with him, offering him a new lease on life but also pushing him towards a violent path of revenge. This cyberpunk thriller explores themes of body autonomy, AI control, and the blurry line between human and machine.\\n*   **Streaming Service:** Netflix\\n\\n### Movie 3: The Platform\\n\\n*   **Year:** 2019\\n*   **Description:** This Spanish dystopian thriller is set in a vertical prison where inmates on higher levels get to eat lavishly from a platform of food that descends, while those below starve. It's a brutal and thought-provoking allegory about social inequality, human nature, and the struggle for collective action.\\n*   **Streaming Service:** Netflix\"}, artifact_delta={}, transfer_to_agent=None, escalate=None, requested_auth_configs={}, requested_tool_confirmations={}, compaction=None) long_running_tool_ids=None branch=None id='75184ef1-947f-4b15-aefb-86a385d005d5' timestamp=1759628250.053655\n",
            "Event received: content=Content(\n",
            "  parts=[\n",
            "    Part(\n",
            "      text=\"\"\"Here's your sci-fi movie festival lineup, \"The Future Is Now: Dystopian Visions & AI Realities Festival,\" tailored for Netflix and Hulu:\n",
            "\n",
            "### Movie 1: I, Robot\n",
            "\n",
            "*   **Year:** 2004\n",
            "*   **Description:** Set in a futuristic Chicago of 2035, Detective Del Spooner (Will Smith) investigates the alleged suicide of a robotics pioneer, believing a robot is responsible despite their programming to never harm humans. The film delves into themes of artificial intelligence, ethics, and the potential dangers of relying too heavily on machines.\n",
            "*   **Streaming Service:** Hulu (available July 2025)\n",
            "\n",
            "### Movie 2: Upgrade\n",
            "\n",
            "*   **Year:** 2018\n",
            "*   **Description:** In a near-future world where technology controls nearly all aspects of life, a paralyzed man is given an experimental computer chip implant named STEM that allows him to walk again. However, STEM soon begins to communicate with him, offering him a new lease on life but also pushing him towards a violent path of revenge. This cyberpunk thriller explores themes of body autonomy, AI control, and the blurry line between human and machine.\n",
            "*   **Streaming Service:** Netflix\n",
            "\n",
            "### Movie 3: The Platform\n",
            "\n",
            "*   **Year:** 2019\n",
            "*   **Description:** This Spanish dystopian thriller is set in a vertical prison where inmates on higher levels get to eat lavishly from a platform of food that descends, while those below starve. It's a brutal and thought-provoking allegory about social inequality, human nature, and the struggle for collective action.\n",
            "*   **Streaming Service:** Netflix\"\"\"\n",
            "    ),\n",
            "  ],\n",
            "  role='model'\n",
            ") grounding_metadata=None partial=None turn_complete=None finish_reason=<FinishReason.STOP: 'STOP'> error_code=None error_message=None interrupted=None custom_metadata=None usage_metadata=GenerateContentResponseUsageMetadata(\n",
            "  candidates_token_count=345,\n",
            "  prompt_token_count=790,\n",
            "  prompt_tokens_details=[\n",
            "    ModalityTokenCount(\n",
            "      modality=<MediaModality.TEXT: 'TEXT'>,\n",
            "      token_count=790\n",
            "    ),\n",
            "  ],\n",
            "  total_token_count=1135\n",
            ") live_session_resumption_update=None input_transcription=None output_transcription=None avg_logprobs=None logprobs_result=None cache_metadata=None invocation_id='e-cb3fb7ff-75df-4d20-897e-ebc439186137' author='movie_festival_orchestrator' actions=EventActions(skip_summarization=None, state_delta={}, artifact_delta={}, transfer_to_agent=None, escalate=None, requested_auth_configs={}, requested_tool_confirmations={}, compaction=None) long_running_tool_ids=None branch=None id='22ead0f5-a2a9-4507-a745-26a2301281bf' timestamp=1759628250.055444\n",
            "\n",
            "--------------------------------------------------\n",
            "✅ Final Response:\n"
          ]
        },
        {
          "output_type": "display_data",
          "data": {
            "text/plain": [
              "<IPython.core.display.Markdown object>"
            ],
            "text/markdown": "Here's your sci-fi movie festival lineup, \"The Future Is Now: Dystopian Visions & AI Realities Festival,\" tailored for Netflix and Hulu:\n\n### Movie 1: I, Robot\n\n*   **Year:** 2004\n*   **Description:** Set in a futuristic Chicago of 2035, Detective Del Spooner (Will Smith) investigates the alleged suicide of a robotics pioneer, believing a robot is responsible despite their programming to never harm humans. The film delves into themes of artificial intelligence, ethics, and the potential dangers of relying too heavily on machines.\n*   **Streaming Service:** Hulu (available July 2025)\n\n### Movie 2: Upgrade\n\n*   **Year:** 2018\n*   **Description:** In a near-future world where technology controls nearly all aspects of life, a paralyzed man is given an experimental computer chip implant named STEM that allows him to walk again. However, STEM soon begins to communicate with him, offering him a new lease on life but also pushing him towards a violent path of revenge. This cyberpunk thriller explores themes of body autonomy, AI control, and the blurry line between human and machine.\n*   **Streaming Service:** Netflix\n\n### Movie 3: The Platform\n\n*   **Year:** 2019\n*   **Description:** This Spanish dystopian thriller is set in a vertical prison where inmates on higher levels get to eat lavishly from a platform of food that descends, while those below starve. It's a brutal and thought-provoking allegory about social inequality, human nature, and the struggle for collective action.\n*   **Streaming Service:** Netflix"
          },
          "metadata": {}
        },
        {
          "output_type": "stream",
          "name": "stdout",
          "text": [
            "--------------------------------------------------\n",
            "\n"
          ]
        }
      ]
    },
    {
      "cell_type": "code",
      "execution_count": null,
      "metadata": {
        "id": "z2mDXEA8iuRM",
        "colab": {
          "base_uri": "https://localhost:8080/",
          "height": 1000
        },
        "outputId": "b8d70aee-1ccf-47f2-829f-cc522a7800de"
      },
      "outputs": [
        {
          "output_type": "stream",
          "name": "stdout",
          "text": [
            "### 🧠 DEMO: MOVIE FESTIVAL ORCHESTRATOR WITH MEMORY ###\n",
            "Created a single session for our movie festival planning: b2566d77-0c87-4c8f-a731-475c1cd94245\n",
            "\n",
            "🗣️ User (Turn 1): 'Hi! Suggest a horror movie festival lineup for someone with Netflix and Max subscriptions.'\n",
            "\n",
            "🚀 Running query for agent: 'movie_festival_orchestrator' in session: 'b2566d77-0c87-4c8f-a731-475c1cd94245'...\n"
          ]
        },
        {
          "output_type": "stream",
          "name": "stderr",
          "text": [
            "WARNING:google_genai.types:Warning: there are non-text parts in the response: ['thought_signature', 'function_call'], returning concatenated text result from text parts. Check the full candidates.content.parts accessor to get the full model response.\n"
          ]
        },
        {
          "output_type": "stream",
          "name": "stdout",
          "text": [
            "Event received: content=Content(\n",
            "  parts=[\n",
            "    Part(\n",
            "      function_call=FunctionCall(\n",
            "        args={\n",
            "          'mood': 'horror',\n",
            "          'streaming_services': 'Netflix and Max'\n",
            "        },\n",
            "        id='adk-79e72c15-3054-45d4-812b-d898a9c1b200',\n",
            "        name='get_festival_lineup'\n",
            "      ),\n",
            "      thought_signature=b'\\n\\xe1\\x02\\x01\\xd1\\xed\\x8ao\\x19#\\xdd\\xbd:\\xcfK!l\\xe4C\\xc2\\x17r\\xaf\\x1b\\x12\\xa2\\xf9Wxs]\\xce\"$\\x19\\x91\\x9f\\xee|K\\x08Me7@\\x9ak`2M\\xb1\\x98(6:E\\x1a\\xc1\\xd3\\xfa\\x98\\x05\\xcb9\\xfa\\xb6,\\x05B^\\x8b[b\\xbc\\xd79\\xf4\\xed\\t\\x83\\xc1\\xdc\\x1b\\xd07\\x01\\xfe$B\\xbcc\\xe4\\xff\\x9f\\xae\\x8a\\xf9...'\n",
            "    ),\n",
            "  ],\n",
            "  role='model'\n",
            ") grounding_metadata=None partial=None turn_complete=None finish_reason=<FinishReason.STOP: 'STOP'> error_code=None error_message=None interrupted=None custom_metadata=None usage_metadata=GenerateContentResponseUsageMetadata(\n",
            "  candidates_token_count=27,\n",
            "  prompt_token_count=344,\n",
            "  prompt_tokens_details=[\n",
            "    ModalityTokenCount(\n",
            "      modality=<MediaModality.TEXT: 'TEXT'>,\n",
            "      token_count=344\n",
            "    ),\n",
            "  ],\n",
            "  thoughts_token_count=73,\n",
            "  total_token_count=444\n",
            ") live_session_resumption_update=None input_transcription=None output_transcription=None avg_logprobs=None logprobs_result=None cache_metadata=None invocation_id='e-583257fe-bd32-4a5d-b223-83c611f58375' author='movie_festival_orchestrator' actions=EventActions(skip_summarization=None, state_delta={}, artifact_delta={}, transfer_to_agent=None, escalate=None, requested_auth_configs={}, requested_tool_confirmations={}, compaction=None) long_running_tool_ids=set() branch=None id='59887e4d-a3fc-45c9-8869-b41ba5a23d8a' timestamp=1759628377.583046\n",
            "--- TOOL CALL: get_festival_lineup ---\n",
            "Event received: content=Content(\n",
            "  parts=[\n",
            "    Part(\n",
            "      function_response=FunctionResponse(\n",
            "        id='adk-79e72c15-3054-45d4-812b-d898a9c1b200',\n",
            "        name='get_festival_lineup',\n",
            "        response={\n",
            "          'result': \"\"\"Get ready to delve into the depths of fear with a curated selection of unsettling tales. This lineup explores the psychological unraveling of characters and the terrifying forces that lurk both within and beyond our understanding.\n",
            "\n",
            "## Shadows Within: A Festival of Psychological & Supernatural Dread\n",
            "\n",
            "### **1. Hereditary (2018)**\n",
            "*   **Streaming Service:** Max\n",
            "*   **Description:** Following the death of their reclusive grandmother, a family begins to unravel a series of cryptic and increasingly terrifying secrets about their ancestry. This film is a deeply unsettling exploration of grief, trauma, and inherited horror, pushing psychological boundaries with its intense atmosphere and shocking revelations.\n",
            "\n",
            "### **2. His House (2020)**\n",
            "*   **Streaming Service:** Netflix\n",
            "*   **Description:** A refugee couple from war-torn South Sudan struggles to adjust to their new life in an English town, but they are tormented by a malevolent presence haunting their new home. This film cleverly blends a haunted house narrative with poignant social commentary and psychological horror, examining themes of guilt, displacement, and the ghosts of the past.\n",
            "\n",
            "### **3. The Lighthouse (2019)**\n",
            "*   **Streaming Service:** Max\n",
            "*   **Description:** Two lighthouse keepers, Ephraim Winslow and Thomas Wake, are stranded on a remote New England island in the 1890s. As a storm rages and their isolation intensifies, their sanity slowly erodes, leading to escalating paranoia and horrifying visions. This visually striking black-and-white film is a masterclass in psychological horror, showcasing a descent into madness fueled by solitude and unspoken tensions.\n",
            "\n",
            "### **4. The Ritual (2017)**\n",
            "*   **Streaming Service:** Netflix\n",
            "*   **Description:** Four friends embark on a hiking trip in the Scandinavian wilderness to honor a deceased friend. When they take a shortcut through an ancient forest, they stumble upon a terrifying entity from Norse mythology that preys on their deepest fears. This folk horror gem combines a palpable sense of dread with creature feature elements, delivering a chilling experience of primal fear and survival against an ancient evil.\"\"\"\n",
            "        }\n",
            "      )\n",
            "    ),\n",
            "  ],\n",
            "  role='user'\n",
            ") grounding_metadata=None partial=None turn_complete=None finish_reason=None error_code=None error_message=None interrupted=None custom_metadata=None usage_metadata=None live_session_resumption_update=None input_transcription=None output_transcription=None avg_logprobs=None logprobs_result=None cache_metadata=None invocation_id='e-583257fe-bd32-4a5d-b223-83c611f58375' author='movie_festival_orchestrator' actions=EventActions(skip_summarization=None, state_delta={'initial_lineup': 'Get ready to delve into the depths of fear with a curated selection of unsettling tales. This lineup explores the psychological unraveling of characters and the terrifying forces that lurk both within and beyond our understanding.\\n\\n## Shadows Within: A Festival of Psychological & Supernatural Dread\\n\\n### **1. Hereditary (2018)**\\n*   **Streaming Service:** Max\\n*   **Description:** Following the death of their reclusive grandmother, a family begins to unravel a series of cryptic and increasingly terrifying secrets about their ancestry. This film is a deeply unsettling exploration of grief, trauma, and inherited horror, pushing psychological boundaries with its intense atmosphere and shocking revelations.\\n\\n### **2. His House (2020)**\\n*   **Streaming Service:** Netflix\\n*   **Description:** A refugee couple from war-torn South Sudan struggles to adjust to their new life in an English town, but they are tormented by a malevolent presence haunting their new home. This film cleverly blends a haunted house narrative with poignant social commentary and psychological horror, examining themes of guilt, displacement, and the ghosts of the past.\\n\\n### **3. The Lighthouse (2019)**\\n*   **Streaming Service:** Max\\n*   **Description:** Two lighthouse keepers, Ephraim Winslow and Thomas Wake, are stranded on a remote New England island in the 1890s. As a storm rages and their isolation intensifies, their sanity slowly erodes, leading to escalating paranoia and horrifying visions. This visually striking black-and-white film is a masterclass in psychological horror, showcasing a descent into madness fueled by solitude and unspoken tensions.\\n\\n### **4. The Ritual (2017)**\\n*   **Streaming Service:** Netflix\\n*   **Description:** Four friends embark on a hiking trip in the Scandinavian wilderness to honor a deceased friend. When they take a shortcut through an ancient forest, they stumble upon a terrifying entity from Norse mythology that preys on their deepest fears. This folk horror gem combines a palpable sense of dread with creature feature elements, delivering a chilling experience of primal fear and survival against an ancient evil.'}, artifact_delta={}, transfer_to_agent=None, escalate=None, requested_auth_configs={}, requested_tool_confirmations={}, compaction=None) long_running_tool_ids=None branch=None id='d194aff6-7b78-40c4-a9a4-a6b585379426' timestamp=1759628391.040744\n",
            "Event received: content=Content(\n",
            "  parts=[\n",
            "    Part(\n",
            "      text=\"\"\"Get ready to delve into the depths of fear with a curated selection of unsettling tales. This lineup explores the psychological unraveling of characters and the terrifying forces that lurk both within and beyond our understanding.\n",
            "\n",
            "## Shadows Within: A Festival of Psychological & Supernatural Dread\n",
            "\n",
            "### **1. Hereditary (2018)**\n",
            "*   **Streaming Service:** Max\n",
            "*   **Description:** Following the death of their reclusive grandmother, a family begins to unravel a series of cryptic and increasingly terrifying secrets about their ancestry. This film is a deeply unsettling exploration of grief, trauma, and inherited horror, pushing psychological boundaries with its intense atmosphere and shocking revelations.\n",
            "\n",
            "### **2. His House (2020)**\n",
            "*   **Streaming Service:** Netflix\n",
            "*   **Description:** A refugee couple from war-torn South Sudan struggles to adjust to their new life in an English town, but they are tormented by a malevolent presence haunting their new home. This film cleverly blends a haunted house narrative with poignant social commentary and psychological horror, examining themes of guilt, displacement, and the ghosts of the past.\n",
            "\n",
            "### **3. The Lighthouse (2019)**\n",
            "*   **Streaming Service:** Max\n",
            "*   **Description:** Two lighthouse keepers, Ephraim Winslow and Thomas Wake, are stranded on a remote New England island in the 1890s. As a storm rages and their isolation intensifies, their sanity slowly erodes, leading to escalating paranoia and horrifying visions. This visually striking black-and-white film is a masterclass in psychological horror, showcasing a descent into madness fueled by solitude and unspoken tensions.\n",
            "\n",
            "### **4. The Ritual (2017)**\n",
            "*   **Streaming Service:** Netflix\n",
            "*   **Description:** Four friends embark on a hiking trip in the Scandinavian wilderness to honor a deceased friend. When they take a shortcut through an ancient forest, they stumble upon a terrifying entity from Norse mythology that preys on their deepest fears. This folk horror gem combines a palpable sense of dread with creature feature elements, delivering a chilling experience of primal fear and survival against an ancient evil.\"\"\"\n",
            "    ),\n",
            "  ],\n",
            "  role='model'\n",
            ") grounding_metadata=None partial=None turn_complete=None finish_reason=<FinishReason.STOP: 'STOP'> error_code=None error_message=None interrupted=None custom_metadata=None usage_metadata=GenerateContentResponseUsageMetadata(\n",
            "  candidates_token_count=433,\n",
            "  prompt_token_count=840,\n",
            "  prompt_tokens_details=[\n",
            "    ModalityTokenCount(\n",
            "      modality=<MediaModality.TEXT: 'TEXT'>,\n",
            "      token_count=840\n",
            "    ),\n",
            "  ],\n",
            "  total_token_count=1273\n",
            ") live_session_resumption_update=None input_transcription=None output_transcription=None avg_logprobs=None logprobs_result=None cache_metadata=None invocation_id='e-583257fe-bd32-4a5d-b223-83c611f58375' author='movie_festival_orchestrator' actions=EventActions(skip_summarization=None, state_delta={}, artifact_delta={}, transfer_to_agent=None, escalate=None, requested_auth_configs={}, requested_tool_confirmations={}, compaction=None) long_running_tool_ids=None branch=None id='f7520a6a-7b10-4c0c-bf53-4e328451b548' timestamp=1759628391.043285\n",
            "\n",
            "--------------------------------------------------\n",
            "✅ Final Response:\n"
          ]
        },
        {
          "output_type": "display_data",
          "data": {
            "text/plain": [
              "<IPython.core.display.Markdown object>"
            ],
            "text/markdown": "Get ready to delve into the depths of fear with a curated selection of unsettling tales. This lineup explores the psychological unraveling of characters and the terrifying forces that lurk both within and beyond our understanding.\n\n## Shadows Within: A Festival of Psychological & Supernatural Dread\n\n### **1. Hereditary (2018)**\n*   **Streaming Service:** Max\n*   **Description:** Following the death of their reclusive grandmother, a family begins to unravel a series of cryptic and increasingly terrifying secrets about their ancestry. This film is a deeply unsettling exploration of grief, trauma, and inherited horror, pushing psychological boundaries with its intense atmosphere and shocking revelations.\n\n### **2. His House (2020)**\n*   **Streaming Service:** Netflix\n*   **Description:** A refugee couple from war-torn South Sudan struggles to adjust to their new life in an English town, but they are tormented by a malevolent presence haunting their new home. This film cleverly blends a haunted house narrative with poignant social commentary and psychological horror, examining themes of guilt, displacement, and the ghosts of the past.\n\n### **3. The Lighthouse (2019)**\n*   **Streaming Service:** Max\n*   **Description:** Two lighthouse keepers, Ephraim Winslow and Thomas Wake, are stranded on a remote New England island in the 1890s. As a storm rages and their isolation intensifies, their sanity slowly erodes, leading to escalating paranoia and horrifying visions. This visually striking black-and-white film is a masterclass in psychological horror, showcasing a descent into madness fueled by solitude and unspoken tensions.\n\n### **4. The Ritual (2017)**\n*   **Streaming Service:** Netflix\n*   **Description:** Four friends embark on a hiking trip in the Scandinavian wilderness to honor a deceased friend. When they take a shortcut through an ancient forest, they stumble upon a terrifying entity from Norse mythology that preys on their deepest fears. This folk horror gem combines a palpable sense of dread with creature feature elements, delivering a chilling experience of primal fear and survival against an ancient evil."
          },
          "metadata": {}
        },
        {
          "output_type": "stream",
          "name": "stdout",
          "text": [
            "--------------------------------------------------\n",
            "\n",
            "\n",
            "🗣️ User (Turn 2 - Asking for details): 'Can you tell me more about 'The Shining' from the lineup you suggested?'\n",
            "\n",
            "🚀 Running query for agent: 'movie_festival_orchestrator' in session: 'b2566d77-0c87-4c8f-a731-475c1cd94245'...\n"
          ]
        },
        {
          "output_type": "stream",
          "name": "stderr",
          "text": [
            "WARNING:google_genai.types:Warning: there are non-text parts in the response: ['thought_signature'], returning concatenated text result from text parts. Check the full candidates.content.parts accessor to get the full model response.\n"
          ]
        },
        {
          "output_type": "stream",
          "name": "stdout",
          "text": [
            "Event received: content=Content(\n",
            "  parts=[\n",
            "    Part(\n",
            "      text=\"'The Shining' was not one of the movies I suggested in your horror festival lineup. Would you like me to evaluate one of the films I did suggest, or perhaps suggest a different movie for evaluation?\",\n",
            "      thought_signature=b\"\\n\\xf8\\x01\\x01\\xd1\\xed\\x8ao+\\xbc9\\xab..\\x87\\x94\\xb3\\xb8\\xa5\\xa0\\x13\\xb9\\x19\\xcf\\x17\\xcd\\x9c \\xfa\\xbd\\xf9*\\x06\\xaa\\x87\\xbb\\x10\\xf2\\xf2\\x03=\\xe5Y\\x85\\xa1\\xe8\\x83\\x9d\\xe7\\xa6\\r\\x80\\xe5\\x130\\xf6\\xfe\\x81\\xe2J\\x08\\x94\\xc0\\x85\\x01\\xdc\\x87\\x92\\x1b\\x18)\\xff\\x88\\xbd\\xfc\\x9f\\xb1\\x92F\\xd4\\x90\\x85\\x98\\x07G`Z>J\\xfd\\xe8M)'\\x01$\\xfd...'\n",
            "    ),\n",
            "  ],\n",
            "  role='model'\n",
            ") grounding_metadata=None partial=None turn_complete=None finish_reason=<FinishReason.STOP: 'STOP'> error_code=None error_message=None interrupted=None custom_metadata=None usage_metadata=GenerateContentResponseUsageMetadata(\n",
            "  candidates_token_count=41,\n",
            "  prompt_token_count=1291,\n",
            "  prompt_tokens_details=[\n",
            "    ModalityTokenCount(\n",
            "      modality=<MediaModality.TEXT: 'TEXT'>,\n",
            "      token_count=1291\n",
            "    ),\n",
            "  ],\n",
            "  thoughts_token_count=46,\n",
            "  total_token_count=1378\n",
            ") live_session_resumption_update=None input_transcription=None output_transcription=None avg_logprobs=None logprobs_result=None cache_metadata=None invocation_id='e-cbcd1b5a-1aae-4bfc-a734-06d45846c19c' author='movie_festival_orchestrator' actions=EventActions(skip_summarization=None, state_delta={}, artifact_delta={}, transfer_to_agent=None, escalate=None, requested_auth_configs={}, requested_tool_confirmations={}, compaction=None) long_running_tool_ids=None branch=None id='d3540f96-e71f-4b2e-bd04-e76bdabde685' timestamp=1759628394.755759\n",
            "\n",
            "--------------------------------------------------\n",
            "✅ Final Response:\n"
          ]
        },
        {
          "output_type": "display_data",
          "data": {
            "text/plain": [
              "<IPython.core.display.Markdown object>"
            ],
            "text/markdown": "'The Shining' was not one of the movies I suggested in your horror festival lineup. Would you like me to evaluate one of the films I did suggest, or perhaps suggest a different movie for evaluation?"
          },
          "metadata": {}
        },
        {
          "output_type": "stream",
          "name": "stdout",
          "text": [
            "--------------------------------------------------\n",
            "\n",
            "\n",
            "🗣️ User (Turn 3 - Evaluation): 'What about 'Get Out'? Would that fit the 'Echoes of Fear' theme and get a good critic's opinion?'\n",
            "\n",
            "🚀 Running query for agent: 'movie_festival_orchestrator' in session: 'b2566d77-0c87-4c8f-a731-475c1cd94245'...\n"
          ]
        },
        {
          "output_type": "stream",
          "name": "stderr",
          "text": [
            "WARNING:google_genai.types:Warning: there are non-text parts in the response: ['thought_signature', 'function_call'], returning concatenated text result from text parts. Check the full candidates.content.parts accessor to get the full model response.\n"
          ]
        },
        {
          "output_type": "stream",
          "name": "stdout",
          "text": [
            "Event received: content=Content(\n",
            "  parts=[\n",
            "    Part(\n",
            "      text=\"\"\"It seems there might be a slight misunderstanding. The festival theme I suggested was \"Shadows Within: A Festival of Psychological & Supernatural Dread\".\n",
            "\n",
            "However, I can still evaluate \"Get Out\" for this theme and provide a critic's opinion.\n",
            "\"\"\",\n",
            "      thought_signature=b'\\n\\xf1\\x04\\x01\\xd1\\xed\\x8ao\\xed\\xd63X\\x85\\xda\\xa6\\x90l\\xa5b\\xaeJ\\x99Y\\x84/\\xc0\\x92\\xb7\\xf3\\x06\\x92\\x04\\xc53\\xc4\\xb4\\x8a\\x87%k5<\\xa8f \\xab\\xe0\\x7f\\xc3\\xb2\\xc3i\\xd2\\xfb\\xdeA/Z\\x14\\x93eB\\x8f\\x06\\x06\\xe2\\x83\\x86\\x07\\x00\\xb09o\\xfa\\xa5U\\xf5\\x9di\\\\\\xe7M\\\\\\x89\\xd26\\xaa\\xbd\\x8bKRt\\x15A\\xf3\\xd0\\xf9...'\n",
            "    ),\n",
            "    Part(\n",
            "      function_call=FunctionCall(\n",
            "        args={\n",
            "          'festival_theme': 'Shadows Within: A Festival of Psychological & Supernatural Dread',\n",
            "          'movie_title': 'Get Out'\n",
            "        },\n",
            "        id='adk-236a5745-fb2e-49df-8313-3c6ba0946022',\n",
            "        name='evaluate_movie_for_festival'\n",
            "      )\n",
            "    ),\n",
            "  ],\n",
            "  role='model'\n",
            ") grounding_metadata=None partial=None turn_complete=None finish_reason=<FinishReason.STOP: 'STOP'> error_code=None error_message=None interrupted=None custom_metadata=None usage_metadata=GenerateContentResponseUsageMetadata(\n",
            "  cache_tokens_details=[\n",
            "    ModalityTokenCount(\n",
            "      modality=<MediaModality.TEXT: 'TEXT'>,\n",
            "      token_count=772\n",
            "    ),\n",
            "  ],\n",
            "  cached_content_token_count=772,\n",
            "  candidates_token_count=91,\n",
            "  prompt_token_count=1360,\n",
            "  prompt_tokens_details=[\n",
            "    ModalityTokenCount(\n",
            "      modality=<MediaModality.TEXT: 'TEXT'>,\n",
            "      token_count=1360\n",
            "    ),\n",
            "  ],\n",
            "  thoughts_token_count=144,\n",
            "  total_token_count=1595\n",
            ") live_session_resumption_update=None input_transcription=None output_transcription=None avg_logprobs=None logprobs_result=None cache_metadata=None invocation_id='e-fcc9a83f-5ceb-4014-88ad-73327b397184' author='movie_festival_orchestrator' actions=EventActions(skip_summarization=None, state_delta={}, artifact_delta={}, transfer_to_agent=None, escalate=None, requested_auth_configs={}, requested_tool_confirmations={}, compaction=None) long_running_tool_ids=set() branch=None id='80858c33-545f-4dd7-8d41-74c7e1572214' timestamp=1759628396.091656\n",
            "--- TOOL CALL: evaluate_movie_for_festival ---\n"
          ]
        },
        {
          "output_type": "stream",
          "name": "stderr",
          "text": [
            "WARNING:google_genai.types:Warning: there are non-text parts in the response: ['thought_signature', 'function_call'], returning concatenated text result from text parts. Check the full candidates.content.parts accessor to get the full model response.\n",
            "WARNING:google_genai.types:Warning: there are non-text parts in the response: ['thought_signature'], returning concatenated text result from text parts. Check the full candidates.content.parts accessor to get the full model response.\n"
          ]
        },
        {
          "output_type": "stream",
          "name": "stdout",
          "text": [
            "Event received: content=Content(\n",
            "  parts=[\n",
            "    Part(\n",
            "      function_response=FunctionResponse(\n",
            "        id='adk-236a5745-fb2e-49df-8313-3c6ba0946022',\n",
            "        name='evaluate_movie_for_festival',\n",
            "        response={\n",
            "          'result': '\\'Get Out\\' is an excellent fit for \\'Shadows Within: A Festival of Psychological & Supernatural Dread\\'. The critic describes it as \"a chillingly prescient social x-ray\" and highlights how it \"weaponized the innocuous smile and the subtle microaggression, crafting a satire so sharp it cuts deeper than any slasher.\" This speaks directly to the \\'Psychological Dread\\' aspect of the festival theme, as the film masterfully creates unease and horror through psychological manipulation and the insidious fear of hidden intentions within seemingly normal interactions. While the critic doesn\\'t explicitly detail supernatural elements, the film\\'s narrative certainly delves into themes that blur the line between psychological terror and a form of dread that transcends the purely rational, making it a compelling candidate for a festival focused on deep-seated and uncanny fears.'\n",
            "        }\n",
            "      )\n",
            "    ),\n",
            "  ],\n",
            "  role='user'\n",
            ") grounding_metadata=None partial=None turn_complete=None finish_reason=None error_code=None error_message=None interrupted=None custom_metadata=None usage_metadata=None live_session_resumption_update=None input_transcription=None output_transcription=None avg_logprobs=None logprobs_result=None cache_metadata=None invocation_id='e-fcc9a83f-5ceb-4014-88ad-73327b397184' author='movie_festival_orchestrator' actions=EventActions(skip_summarization=None, state_delta={}, artifact_delta={}, transfer_to_agent=None, escalate=None, requested_auth_configs={}, requested_tool_confirmations={}, compaction=None) long_running_tool_ids=None branch=None id='14f1a6e2-d646-4cf1-a103-cb77cd98bdee' timestamp=1759628405.849948\n",
            "Event received: content=Content(\n",
            "  parts=[\n",
            "    Part(\n",
            "      text=\"\"\"'Get Out' is an excellent fit for 'Shadows Within: A Festival of Psychological & Supernatural Dread'. A critic describes it as \"a chillingly prescient social x-ray\" and highlights how it \"weaponized the innocuous smile and the subtle microaggression, crafting a satire so sharp it cuts deeper than any slasher.\"\n",
            "\n",
            "This speaks directly to the 'Psychological Dread' aspect of the festival theme, as the film masterfully creates unease and horror through psychological manipulation and the insidious fear of hidden intentions within seemingly normal interactions. While not overtly supernatural in a traditional ghost story sense, the film's narrative certainly delves into themes that blur the line between psychological terror and a form of dread that transcends the purely rational, making it a compelling candidate for a festival focused on deep-seated and uncanny fears.\"\"\"\n",
            "    ),\n",
            "  ],\n",
            "  role='model'\n",
            ") grounding_metadata=None partial=None turn_complete=None finish_reason=<FinishReason.STOP: 'STOP'> error_code=None error_message=None interrupted=None custom_metadata=None usage_metadata=GenerateContentResponseUsageMetadata(\n",
            "  cache_tokens_details=[\n",
            "    ModalityTokenCount(\n",
            "      modality=<MediaModality.TEXT: 'TEXT'>,\n",
            "      token_count=748\n",
            "    ),\n",
            "  ],\n",
            "  cached_content_token_count=748,\n",
            "  candidates_token_count=165,\n",
            "  prompt_token_count=1634,\n",
            "  prompt_tokens_details=[\n",
            "    ModalityTokenCount(\n",
            "      modality=<MediaModality.TEXT: 'TEXT'>,\n",
            "      token_count=1634\n",
            "    ),\n",
            "  ],\n",
            "  total_token_count=1799\n",
            ") live_session_resumption_update=None input_transcription=None output_transcription=None avg_logprobs=None logprobs_result=None cache_metadata=None invocation_id='e-fcc9a83f-5ceb-4014-88ad-73327b397184' author='movie_festival_orchestrator' actions=EventActions(skip_summarization=None, state_delta={}, artifact_delta={}, transfer_to_agent=None, escalate=None, requested_auth_configs={}, requested_tool_confirmations={}, compaction=None) long_running_tool_ids=None branch=None id='b83f9caa-2524-4f5f-9149-cd5797a4843f' timestamp=1759628405.852643\n",
            "\n",
            "--------------------------------------------------\n",
            "✅ Final Response:\n"
          ]
        },
        {
          "output_type": "display_data",
          "data": {
            "text/plain": [
              "<IPython.core.display.Markdown object>"
            ],
            "text/markdown": "'Get Out' is an excellent fit for 'Shadows Within: A Festival of Psychological & Supernatural Dread'. A critic describes it as \"a chillingly prescient social x-ray\" and highlights how it \"weaponized the innocuous smile and the subtle microaggression, crafting a satire so sharp it cuts deeper than any slasher.\"\n\nThis speaks directly to the 'Psychological Dread' aspect of the festival theme, as the film masterfully creates unease and horror through psychological manipulation and the insidious fear of hidden intentions within seemingly normal interactions. While not overtly supernatural in a traditional ghost story sense, the film's narrative certainly delves into themes that blur the line between psychological terror and a form of dread that transcends the purely rational, making it a compelling candidate for a festival focused on deep-seated and uncanny fears."
          },
          "metadata": {}
        },
        {
          "output_type": "stream",
          "name": "stdout",
          "text": [
            "--------------------------------------------------\n",
            "\n"
          ]
        }
      ],
      "source": [
        "# --- Scenario 2: Testing Adaptation and Memory with Movie Festival Orchestrator ---\n",
        "\n",
        "async def run_movie_festival_memory_demonstration():\n",
        "    print(\"### 🧠 DEMO: MOVIE FESTIVAL ORCHESTRATOR WITH MEMORY ###\")\n",
        "\n",
        "    # Create ONE session that we will reuse for the whole conversation\n",
        "    movie_festival_session = await session_service.create_session(\n",
        "        app_name=movie_festival_orchestrator_agent.name,\n",
        "        user_id=my_user_id\n",
        "    )\n",
        "    print(f\"Created a single session for our movie festival planning: {movie_festival_session.id}\")\n",
        "\n",
        "    # --- Turn 1: The user initiates the festival planning ---\n",
        "    query1 = \"Hi! Suggest a horror movie festival lineup for someone with Netflix and Max subscriptions.\"\n",
        "    print(f\"\\n🗣️ User (Turn 1): '{query1}'\")\n",
        "    await run_agent_query(movie_festival_orchestrator_agent, query1, movie_festival_session, my_user_id)\n",
        "\n",
        "    # --- Turn 2: The user asks for details on a movie from the lineup ---\n",
        "    # We use the EXACT SAME `movie_festival_session` object!\n",
        "    query2 = \"Can you tell me more about 'The Shining' from the lineup you suggested?\"\n",
        "    print(f\"\\n🗣️ User (Turn 2 - Asking for details): '{query2}'\")\n",
        "    await run_agent_query(movie_festival_orchestrator_agent, query2, movie_festival_session, my_user_id)\n",
        "\n",
        "    # --- Turn 3: The user asks for an evaluation of another movie for the festival theme ---\n",
        "    query3 = \"What about 'Get Out'? Would that fit the 'Echoes of Fear' theme and get a good critic's opinion?\"\n",
        "    print(f\"\\n🗣️ User (Turn 3 - Evaluation): '{query3}'\")\n",
        "    await run_agent_query(movie_festival_orchestrator_agent, query3, movie_festival_session, my_user_id)\n",
        "\n",
        "await run_movie_festival_memory_demonstration()"
      ],
      "id": "z2mDXEA8iuRM"
    }
  ],
  "metadata": {
    "colab": {
      "provenance": [],
      "toc_visible": true
    },
    "kernelspec": {
      "display_name": "Python 3",
      "name": "python3"
    },
    "language_info": {
      "name": "python"
    }
  },
  "nbformat": 4,
  "nbformat_minor": 5
}